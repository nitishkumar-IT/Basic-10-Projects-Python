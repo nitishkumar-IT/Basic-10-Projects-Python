{
 "cells": [
  {
   "cell_type": "markdown",
   "id": "808bbb72-53bc-4031-b525-6321780e661a",
   "metadata": {},
   "source": [
    "1> Write a Python program to print \"Hello, World!\""
   ]
  },
  {
   "cell_type": "code",
   "execution_count": 1,
   "id": "eefde005-4680-4cc3-ae7c-1f0f33029043",
   "metadata": {},
   "outputs": [
    {
     "name": "stdout",
     "output_type": "stream",
     "text": [
      "Hello World!\n"
     ]
    }
   ],
   "source": [
    "def hello_w():\n",
    "    print(\"Hello World!\")\n",
    "    \n",
    "hello_w()"
   ]
  },
  {
   "cell_type": "markdown",
   "id": "71b5335c-3cc2-4ffc-8814-fd5bd9d1f8a4",
   "metadata": {},
   "source": [
    "2> Calculate the sum of two numbers entered by the user."
   ]
  },
  {
   "cell_type": "code",
   "execution_count": 5,
   "id": "a89cc740-06e6-429b-baa6-758f7f0492c7",
   "metadata": {},
   "outputs": [
    {
     "name": "stdin",
     "output_type": "stream",
     "text": [
      "Enter First Number 2\n",
      "Enter Second Number 3\n"
     ]
    },
    {
     "name": "stdout",
     "output_type": "stream",
     "text": [
      "Sum of two number = 5\n"
     ]
    }
   ],
   "source": [
    "def sum_num():\n",
    "    print(\"Sum of two number =\",a+b)\n",
    "\n",
    "a = int(input(\"Enter First Number\"))\n",
    "b = int(input(\"Enter Second Number\"))\n",
    "sum_num()"
   ]
  },
  {
   "cell_type": "code",
   "execution_count": null,
   "id": "1c908078-700e-42b0-a62b-56c466fda030",
   "metadata": {},
   "outputs": [],
   "source": [
    "3> Write a Python program to calculate the area of a\n",
    "rectangle given its length and width"
   ]
  },
  {
   "cell_type": "code",
   "execution_count": 9,
   "id": "845f9282-2fa7-4684-a0c4-0df2a27e5696",
   "metadata": {},
   "outputs": [
    {
     "name": "stdin",
     "output_type": "stream",
     "text": [
      "Enter length of Rectangle =  9\n",
      "Enter breadth of Rectangle =  4\n"
     ]
    },
    {
     "name": "stdout",
     "output_type": "stream",
     "text": [
      "Area of Rectangle is  36.0\n"
     ]
    }
   ],
   "source": [
    "def Area_of_Rectangle():\n",
    "    print(\"Area of Rectangle is \", length*bredth)\n",
    "\n",
    "length = float(input(\"Enter length of Rectangle = \"))\n",
    "bredth = float(input(\"Enter breadth of Rectangle = \"))\n",
    "Area_of_Rectangle()"
   ]
  },
  {
   "cell_type": "code",
   "execution_count": null,
   "id": "05bb2e10-eefd-4005-a704-d712f6cf9ed9",
   "metadata": {},
   "outputs": [],
   "source": [
    "4> Create a program that takes a users name and age as\n",
    "input and prints a greeting message"
   ]
  },
  {
   "cell_type": "code",
   "execution_count": 11,
   "id": "5f93e82f-6843-4a36-9e11-99dbc056a35f",
   "metadata": {},
   "outputs": [
    {
     "name": "stdin",
     "output_type": "stream",
     "text": [
      "Your sweet name Tansika\n",
      "Your cute Age 12\n"
     ]
    },
    {
     "name": "stdout",
     "output_type": "stream",
     "text": [
      "WELCOME TO MY CODING!! My name is Tansika and my age is 12\n"
     ]
    }
   ],
   "source": [
    "def wel_come():\n",
    "    print(f\"WELCOME TO MY CODING!! My name is {NAME} and my age is {AGE}\")\n",
    "\n",
    "NAME = str(input(\"Your sweet name\"))\n",
    "AGE = int(input(\"Your cute Age\"))\n",
    "wel_come()"
   ]
  },
  {
   "cell_type": "code",
   "execution_count": null,
   "id": "5db511f6-21bf-4ca8-847d-8284524b223a",
   "metadata": {},
   "outputs": [],
   "source": [
    "5> Write a program to check if a number is even or odd"
   ]
  },
  {
   "cell_type": "code",
   "execution_count": 16,
   "id": "821e86bd-e7aa-4b37-848f-823dc56b4b5e",
   "metadata": {},
   "outputs": [
    {
     "name": "stdin",
     "output_type": "stream",
     "text": [
      "Enter Number 4\n"
     ]
    },
    {
     "name": "stdout",
     "output_type": "stream",
     "text": [
      "You entered a Even Number 4\n"
     ]
    }
   ],
   "source": [
    "def odd_even():\n",
    "    if n % 2 == 0:\n",
    "        print(f\"You entered a Even Number {n}\")\n",
    "    else:\n",
    "        print(f\"Your entered a odd Number {n}\")\n",
    "\n",
    "n= int(input(\"Enter Number\"))\n",
    "odd_even()"
   ]
  },
  {
   "cell_type": "code",
   "execution_count": null,
   "id": "7e92d0f3-ccea-49f1-8ee2-0037649c0078",
   "metadata": {},
   "outputs": [],
   "source": [
    "6> Given a list of numbers, find the maximum and minimum\n",
    "values"
   ]
  },
  {
   "cell_type": "code",
   "execution_count": 20,
   "id": "d29bd33b-4f21-426b-bac4-390da1d54a64",
   "metadata": {},
   "outputs": [
    {
     "name": "stdout",
     "output_type": "stream",
     "text": [
      "Minimum Value is 1 , Maximum value is 64\n"
     ]
    }
   ],
   "source": [
    "def Find_min_max(numbers):\n",
    "    min_value = min(numbers)\n",
    "    max_value = max(numbers)\n",
    "    print(f\"Minimum Value is {min_value} , Maximum value is {max_value}\")\n",
    "\n",
    "numbers = [4,10,22,45,1,64,5,6,11,33,4,3,44,55]\n",
    "Find_min_max(numbers)"
   ]
  },
  {
   "cell_type": "code",
   "execution_count": null,
   "id": "9a0f70a1-300e-4f19-a24b-d6554a978392",
   "metadata": {},
   "outputs": [],
   "source": [
    "7> Create a Python function to check if a given string is a\n",
    "palindrome"
   ]
  },
  {
   "cell_type": "code",
   "execution_count": 28,
   "id": "78dfc1c8-5a7c-4029-a2b3-ce4d2963d1c2",
   "metadata": {},
   "outputs": [
    {
     "name": "stdin",
     "output_type": "stream",
     "text": [
      "Enter the word to check Palidrome grn\n"
     ]
    },
    {
     "name": "stdout",
     "output_type": "stream",
     "text": [
      "The Word is not Palidrome\n"
     ]
    }
   ],
   "source": [
    "def isPalidrome():\n",
    "    if (word == word[::-1]):\n",
    "        print(\"The Word is Palidrome\")\n",
    "    else:\n",
    "        print(\"The Word is not Palidrome\")\n",
    "\n",
    "word = str(input(\"Enter the word to check Palidrome\"))\n",
    "isPalidrome()\n",
    "              "
   ]
  },
  {
   "cell_type": "code",
   "execution_count": 8,
   "id": "8da0f586-dffc-41fb-bcd1-5c202d4250e8",
   "metadata": {},
   "outputs": [
    {
     "name": "stdout",
     "output_type": "stream",
     "text": [
      "Before swapping:\n",
      "a = 5\n",
      "b = 10\n",
      "After swapping:\n",
      "a = 10\n",
      "b = 5\n"
     ]
    }
   ],
   "source": [
    "def swap_variables(a, b):\n",
    "    print(\"Before swapping:\")\n",
    "    print(\"a =\", a)\n",
    "    print(\"b =\", b)\n",
    "    \n",
    "    # Swapping the values\n",
    "    temp = a\n",
    "    a = b\n",
    "    b = temp\n",
    "    \n",
    "    print(\"After swapping:\")\n",
    "    print(\"a =\", a)\n",
    "    print(\"b =\", b)\n",
    "\n",
    "# Example usage\n",
    "a = 5\n",
    "b = 10\n",
    "swap_variables(a,b)\n"
   ]
  },
  {
   "cell_type": "code",
   "execution_count": 24,
   "id": "1bc55827-7557-4840-83f9-9ef64a952d2d",
   "metadata": {},
   "outputs": [
    {
     "name": "stdout",
     "output_type": "stream",
     "text": [
      "Before Swap\n",
      "no1 =  4\n",
      "no2 =  48\n",
      "\n",
      "After Swap\n",
      "no1 =  48\n",
      "no2 =  4\n"
     ]
    }
   ],
   "source": [
    "def swapV(no1,no2):\n",
    "    print(\"Before Swap\")\n",
    "    print(\"no1 = \" ,no1)\n",
    "    print(\"no2 = \" ,no2)\n",
    "\n",
    "    temp = no1\n",
    "    no1 = no2\n",
    "    no2 = temp\n",
    "\n",
    "    print(\"\\nAfter Swap\")\n",
    "    print(\"no1 = \" ,no1)\n",
    "    print(\"no2 = \" ,no2)\n",
    "\n",
    "no1 = 4 \n",
    "no2 = 48\n",
    "swapV(no1,no2)\n"
   ]
  },
  {
   "cell_type": "code",
   "execution_count": 25,
   "id": "98f07ef8-8649-4001-aecc-370e721483c6",
   "metadata": {},
   "outputs": [
    {
     "name": "stdout",
     "output_type": "stream",
     "text": [
      "Principal Amount: 1000\n",
      "Annual Interest Rate: 0.05\n",
      "Time Period (years): 5\n",
      "Compounding Periods per Year: 12\n",
      "Final Amount (including interest): 1283.3586785035118\n",
      "Interest Earned: 283.3586785035118\n"
     ]
    }
   ],
   "source": [
    "def compound_interest(principal, rate, time, n):\n",
    "    amount = principal * (1 + rate / n) ** (n * time)\n",
    "    interest = amount - principal\n",
    "    return amount, interest\n",
    "\n",
    "# Example usage\n",
    "principal_amount = 1000  # Example principal amount\n",
    "annual_interest_rate = 0.05  # Example annual interest rate (5%)\n",
    "time_period = 5  # Example time period in years\n",
    "compounding_periods = 12  # Example compounding periods per year\n",
    "\n",
    "final_amount, interest_earned = compound_interest(principal_amount, annual_interest_rate, time_period, compounding_periods)\n",
    "\n",
    "print(\"Principal Amount:\", principal_amount)\n",
    "print(\"Annual Interest Rate:\", annual_interest_rate)\n",
    "print(\"Time Period (years):\", time_period)\n",
    "print(\"Compounding Periods per Year:\", compounding_periods)\n",
    "print(\"Final Amount (including interest):\", final_amount)\n",
    "print(\"Interest Earned:\", interest_earned)\n"
   ]
  },
  {
   "cell_type": "code",
   "execution_count": null,
   "id": "56249241-1ac8-4ecf-92dd-7d0382cac9e8",
   "metadata": {},
   "outputs": [],
   "source": []
  }
 ],
 "metadata": {
  "kernelspec": {
   "display_name": "Python 3 (ipykernel)",
   "language": "python",
   "name": "python3"
  },
  "language_info": {
   "codemirror_mode": {
    "name": "ipython",
    "version": 3
   },
   "file_extension": ".py",
   "mimetype": "text/x-python",
   "name": "python",
   "nbconvert_exporter": "python",
   "pygments_lexer": "ipython3",
   "version": "3.12.3"
  }
 },
 "nbformat": 4,
 "nbformat_minor": 5
}
