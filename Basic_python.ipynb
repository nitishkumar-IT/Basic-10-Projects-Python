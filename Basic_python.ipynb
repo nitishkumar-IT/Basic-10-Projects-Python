{
 "cells": [
  {
   "cell_type": "markdown",
   "id": "808bbb72-53bc-4031-b525-6321780e661a",
   "metadata": {},
   "source": [
    "1> Write a Python program to print \"Hello, World!\""
   ]
  },
  {
   "cell_type": "code",
   "execution_count": 1,
   "id": "eefde005-4680-4cc3-ae7c-1f0f33029043",
   "metadata": {},
   "outputs": [
    {
     "name": "stdout",
     "output_type": "stream",
     "text": [
      "Hello World!\n"
     ]
    }
   ],
   "source": [
    "def hello_w():\n",
    "    print(\"Hello World!\")\n",
    "    \n",
    "hello_w()"
   ]
  },
  {
   "cell_type": "markdown",
   "id": "71b5335c-3cc2-4ffc-8814-fd5bd9d1f8a4",
   "metadata": {},
   "source": [
    "2> Calculate the sum of two numbers entered by the user."
   ]
  },
  {
   "cell_type": "code",
   "execution_count": 5,
   "id": "a89cc740-06e6-429b-baa6-758f7f0492c7",
   "metadata": {},
   "outputs": [
    {
     "name": "stdin",
     "output_type": "stream",
     "text": [
      "Enter First Number 2\n",
      "Enter Second Number 3\n"
     ]
    },
    {
     "name": "stdout",
     "output_type": "stream",
     "text": [
      "Sum of two number = 5\n"
     ]
    }
   ],
   "source": [
    "def sum_num():\n",
    "    print(\"Sum of two number =\",a+b)\n",
    "\n",
    "a = int(input(\"Enter First Number\"))\n",
    "b = int(input(\"Enter Second Number\"))\n",
    "sum_num()"
   ]
  },
  {
   "cell_type": "markdown",
   "id": "376b8f67-3f82-4135-a128-1d0c44552f28",
   "metadata": {},
   "source": [
    "3> Write a Python program to calculate the area of a rectangle given its length and width"
   ]
  },
  {
   "cell_type": "code",
   "execution_count": 9,
   "id": "845f9282-2fa7-4684-a0c4-0df2a27e5696",
   "metadata": {},
   "outputs": [
    {
     "name": "stdin",
     "output_type": "stream",
     "text": [
      "Enter length of Rectangle =  9\n",
      "Enter breadth of Rectangle =  4\n"
     ]
    },
    {
     "name": "stdout",
     "output_type": "stream",
     "text": [
      "Area of Rectangle is  36.0\n"
     ]
    }
   ],
   "source": [
    "def Area_of_Rectangle():\n",
    "    print(\"Area of Rectangle is \", length*bredth)\n",
    "\n",
    "length = float(input(\"Enter length of Rectangle = \"))\n",
    "bredth = float(input(\"Enter breadth of Rectangle = \"))\n",
    "Area_of_Rectangle()"
   ]
  },
  {
   "cell_type": "markdown",
   "id": "e6ca9211-9f48-4980-b233-97dc100efa52",
   "metadata": {},
   "source": [
    "4> Create a program that takes a users name and age as input and prints a greeting message"
   ]
  },
  {
   "cell_type": "code",
   "execution_count": 11,
   "id": "5f93e82f-6843-4a36-9e11-99dbc056a35f",
   "metadata": {},
   "outputs": [
    {
     "name": "stdin",
     "output_type": "stream",
     "text": [
      "Your sweet name Tansika\n",
      "Your cute Age 12\n"
     ]
    },
    {
     "name": "stdout",
     "output_type": "stream",
     "text": [
      "WELCOME TO MY CODING!! My name is Tansika and my age is 12\n"
     ]
    }
   ],
   "source": [
    "def wel_come():\n",
    "    print(f\"WELCOME TO MY CODING!! My name is {NAME} and my age is {AGE}\")\n",
    "\n",
    "NAME = str(input(\"Your sweet name\"))\n",
    "AGE = int(input(\"Your cute Age\"))\n",
    "wel_come()"
   ]
  },
  {
   "cell_type": "markdown",
   "id": "6d48f0bf-d023-4cc0-85e8-91c987691972",
   "metadata": {},
   "source": [
    "5> Write a program to check if a number is even or odd"
   ]
  },
  {
   "cell_type": "code",
   "execution_count": 16,
   "id": "821e86bd-e7aa-4b37-848f-823dc56b4b5e",
   "metadata": {},
   "outputs": [
    {
     "name": "stdin",
     "output_type": "stream",
     "text": [
      "Enter Number 4\n"
     ]
    },
    {
     "name": "stdout",
     "output_type": "stream",
     "text": [
      "You entered a Even Number 4\n"
     ]
    }
   ],
   "source": [
    "def odd_even():\n",
    "    if n % 2 == 0:\n",
    "        print(f\"You entered a Even Number {n}\")\n",
    "    else:\n",
    "        print(f\"Your entered a odd Number {n}\")\n",
    "\n",
    "n= int(input(\"Enter Number\"))\n",
    "odd_even()"
   ]
  },
  {
   "cell_type": "markdown",
   "id": "7c81ae44-3371-4c1e-ba5c-e3ef95a77dca",
   "metadata": {},
   "source": [
    "6> Given a list of numbers, find the maximum and minimum values"
   ]
  },
  {
   "cell_type": "code",
   "execution_count": 20,
   "id": "d29bd33b-4f21-426b-bac4-390da1d54a64",
   "metadata": {},
   "outputs": [
    {
     "name": "stdout",
     "output_type": "stream",
     "text": [
      "Minimum Value is 1 , Maximum value is 64\n"
     ]
    }
   ],
   "source": [
    "def Find_min_max(numbers):\n",
    "    min_value = min(numbers)\n",
    "    max_value = max(numbers)\n",
    "    print(f\"Minimum Value is {min_value} , Maximum value is {max_value}\")\n",
    "\n",
    "numbers = [4,10,22,45,1,64,5,6,11,33,4,3,44,55]\n",
    "Find_min_max(numbers)"
   ]
  },
  {
   "cell_type": "markdown",
   "id": "3258fe04-5f09-4d5c-b26a-b3365a88a91f",
   "metadata": {},
   "source": [
    "7> Create a Python function to check if a given string is a palindrome"
   ]
  },
  {
   "cell_type": "code",
   "execution_count": 28,
   "id": "78dfc1c8-5a7c-4029-a2b3-ce4d2963d1c2",
   "metadata": {},
   "outputs": [
    {
     "name": "stdin",
     "output_type": "stream",
     "text": [
      "Enter the word to check Palidrome grn\n"
     ]
    },
    {
     "name": "stdout",
     "output_type": "stream",
     "text": [
      "The Word is not Palidrome\n"
     ]
    }
   ],
   "source": [
    "def isPalidrome():\n",
    "    if (word == word[::-1]):\n",
    "        print(\"The Word is Palidrome\")\n",
    "    else:\n",
    "        print(\"The Word is not Palidrome\")\n",
    "\n",
    "word = str(input(\"Enter the word to check Palidrome\"))\n",
    "isPalidrome()\n",
    "              "
   ]
  },
  {
   "cell_type": "markdown",
   "id": "8e6b7aaf-fb32-47b0-b32e-577231bab5e3",
   "metadata": {},
   "source": [
    "8> Implement a program that swaps the values of two variables"
   ]
  },
  {
   "cell_type": "code",
   "execution_count": 24,
   "id": "1bc55827-7557-4840-83f9-9ef64a952d2d",
   "metadata": {},
   "outputs": [
    {
     "name": "stdout",
     "output_type": "stream",
     "text": [
      "Before Swap\n",
      "no1 =  4\n",
      "no2 =  48\n",
      "\n",
      "After Swap\n",
      "no1 =  48\n",
      "no2 =  4\n"
     ]
    }
   ],
   "source": [
    "def swapV(no1,no2):\n",
    "    print(\"Before Swap\")\n",
    "    print(\"no1 = \" ,no1)\n",
    "    print(\"no2 = \" ,no2)\n",
    "\n",
    "    temp = no1\n",
    "    no1 = no2\n",
    "    no2 = temp\n",
    "\n",
    "    print(\"\\nAfter Swap\")\n",
    "    print(\"no1 = \" ,no1)\n",
    "    print(\"no2 = \" ,no2)\n",
    "\n",
    "no1 = 4 \n",
    "no2 = 48\n",
    "swapV(no1,no2)\n"
   ]
  },
  {
   "cell_type": "markdown",
   "id": "3a461054-cd8e-4694-9905-6e9524ef4e28",
   "metadata": {},
   "source": [
    "9> Given a list of numbers, find the sum and average'"
   ]
  },
  {
   "cell_type": "code",
   "execution_count": 32,
   "id": "603eb1c2-6764-48d0-9290-af84d4468133",
   "metadata": {},
   "outputs": [
    {
     "name": "stdout",
     "output_type": "stream",
     "text": [
      "Sum of numbers: 87\n",
      "Average of numbers: 9.666666666666666\n"
     ]
    }
   ],
   "source": [
    "def sum_avg(numbers):\n",
    "    total = sum(numbers)\n",
    "    average = total / len(numbers)\n",
    "    return total, average\n",
    "    \n",
    "numbers = [3,4,2,4,5,2,1,43,23]\n",
    "total, average = sum_avg(numbers)\n",
    "print(\"Sum of numbers:\" ,total)\n",
    "print(\"Average of numbers:\" ,average)"
   ]
  },
  {
   "cell_type": "markdown",
   "id": "05bb4b89-647b-41a5-abff-6dddbdc9595e",
   "metadata": {},
   "source": [
    "10> Create a function to reverse a given string"
   ]
  },
  {
   "cell_type": "code",
   "execution_count": 41,
   "id": "db386791-57d5-42b7-9ff1-7d0ad8712f16",
   "metadata": {},
   "outputs": [
    {
     "name": "stdin",
     "output_type": "stream",
     "text": [
      "Enter word to get reverse Nitishkumar\n"
     ]
    },
    {
     "name": "stdout",
     "output_type": "stream",
     "text": [
      "Input string:  Nitishkumar\n",
      "Reverse string:  ramukhsitiN\n"
     ]
    }
   ],
   "source": [
    "def rev_str1(num):\n",
    "    return num[::-1]\n",
    "\n",
    "num = str(input(\"Enter word to get reverse\"))\n",
    "rev = rev_str1(num)\n",
    "print(\"Input string: \"  ,num)\n",
    "print(\"Reverse string: \", rev)"
   ]
  }
 ],
 "metadata": {
  "kernelspec": {
   "display_name": "Python 3 (ipykernel)",
   "language": "python",
   "name": "python3"
  },
  "language_info": {
   "codemirror_mode": {
    "name": "ipython",
    "version": 3
   },
   "file_extension": ".py",
   "mimetype": "text/x-python",
   "name": "python",
   "nbconvert_exporter": "python",
   "pygments_lexer": "ipython3",
   "version": "3.12.3"
  }
 },
 "nbformat": 4,
 "nbformat_minor": 5
}
